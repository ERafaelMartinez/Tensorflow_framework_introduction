{
 "cells": [
  {
   "cell_type": "markdown",
   "metadata": {},
   "source": [
    "La página oficial de tensorflow en donde se podrán encontrar recursos, foros, API's y algunos tutoriales es:  https://www.tensorflow.org"
   ]
  },
  {
   "cell_type": "markdown",
   "metadata": {},
   "source": [
    "En particular, la documentación para los comandos de tensorflow 2 para python se encuentran en la pestaña de API:\n",
    "https://www.tensorflow.org/?hl=es-419"
   ]
  },
  {
   "cell_type": "markdown",
   "metadata": {},
   "source": [
    "Se muestra la siguiente pantalla"
   ]
  },
  {
   "cell_type": "markdown",
   "metadata": {},
   "source": [
    "<figure>\n",
    "    <img src='./images/tf.png.svg'>\n",
    "<\\figure>"
   ]
  },
  {
   "cell_type": "markdown",
   "metadata": {},
   "source": [
    "En el rectangulo verde se observan los distintos lenaguajes donde se puede usar tensorflow. En nuestro caso usaremos python.\n",
    "\n",
    "En el área azul se encuentran todos los módulos de tf con sus respectivos métodos ya sea ordenados por módulos o un desglose total a través de \"All symbols\" como se ve en la figura. \n",
    "\n",
    "En el área roja se mostrará la información que estamos buscando."
   ]
  },
  {
   "cell_type": "markdown",
   "metadata": {},
   "source": [
    "En cada boton aparece la opción de \"Overview\" donde podremos ver todos los submódulos, clases y funciones de ese módulo seguido de una breve descripción de él. La siguiente imagen muestra el overview de tf.keras.\n"
   ]
  },
  {
   "cell_type": "markdown",
   "metadata": {},
   "source": [
    "<figure>\n",
    "    <img src='./images/tf2.png.svg'>\n",
    "    <figcaption>Caption goes here</figcaption>\n",
    "<\\figure>"
   ]
  },
  {
   "cell_type": "markdown",
   "metadata": {},
   "source": [
    "tf.keras es el módulo que más nos interesa ya que aquí encontraremos lo que necesitemos para hacer redes neuronales. En el ejemplo siguiente de tf.keras.layers.Conv2D vemos que se tiene información y descripción sobre cómo usar la función, ejemplos, los argumentos obligatorios y opcionales que se requieren, qué es lo que devuelve el método y los posibles errores que puede devolver. "
   ]
  },
  {
   "cell_type": "markdown",
   "metadata": {},
   "source": [
    "<figure>\n",
    "    <img src='./images/tf3.png'>\n",
    "    <img src='./images/tf4.png'>\n",
    "    <img src='./images/tf5.png'>"
   ]
  },
  {
   "cell_type": "markdown",
   "metadata": {},
   "source": [
    "Los otros módulos tienen una estructura similar con lo cuál encontrar un método en particular es sencillo. "
   ]
  }
 ],
 "metadata": {
  "kernelspec": {
   "display_name": "Python 3",
   "language": "python",
   "name": "python3"
  },
  "language_info": {
   "codemirror_mode": {
    "name": "ipython",
    "version": 3
   },
   "file_extension": ".py",
   "mimetype": "text/x-python",
   "name": "python",
   "nbconvert_exporter": "python",
   "pygments_lexer": "ipython3",
   "version": "3.8.2"
  }
 },
 "nbformat": 4,
 "nbformat_minor": 4
}
