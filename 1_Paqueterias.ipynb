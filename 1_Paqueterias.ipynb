{
 "cells": [
  {
   "cell_type": "markdown",
   "metadata": {},
   "source": [
    "# 1. Instalación de paquetería necesaria para el uso de TensorFlow"
   ]
  },
  {
   "cell_type": "markdown",
   "metadata": {},
   "source": [
    "TensorFlow puede ser utilizado en varios ambientes y sistemas operativos pero en este caso se explica cómo instalarlo en Ubuntu, utilizando Jupyter ntebook dentro de Anaconda.\n",
    "\n",
    "Primero se debe comprobar que se tiene la última versión de Phyton 3 ejecutando el siguiente código en la terminal:"
   ]
  },
  {
   "cell_type": "raw",
   "metadata": {},
   "source": [
    "python3 --version"
   ]
  },
  {
   "cell_type": "markdown",
   "metadata": {},
   "source": [
    "La última versión de TensorFlow es recomendable tener las versiónes Python 3.5 a 3.8.\n",
    "\n",
    "https://www.tensorflow.org/install?hl=es-419\n",
    "\n",
    "En caso de no tener Python o tener una versión anterior, se puede actualizar de la siguiente forma:"
   ]
  },
  {
   "cell_type": "raw",
   "metadata": {},
   "source": [
    "sudo apt update\n",
    "sudo apt install python3.8"
   ]
  },
  {
   "cell_type": "markdown",
   "metadata": {},
   "source": [
    "Para saber qué version de anaconda se tiene instalada se utiliza el siguiente comando:"
   ]
  },
  {
   "cell_type": "raw",
   "metadata": {},
   "source": [
    "conda --version"
   ]
  },
  {
   "cell_type": "markdown",
   "metadata": {},
   "source": [
    "Si no se tiene Anaconda, se puede descargar de esta página\n",
    "\n",
    "https://www.anaconda.com/products/individual\n",
    "\n",
    "Y se instala con "
   ]
  },
  {
   "cell_type": "raw",
   "metadata": {},
   "source": [
    "bash archivo_descargado.sh"
   ]
  },
  {
   "cell_type": "markdown",
   "metadata": {},
   "source": [
    "Finalmente, para instalar la paquetería de TensorFlow utilizando conda basta con escribir en la terminal"
   ]
  },
  {
   "cell_type": "raw",
   "metadata": {},
   "source": [
    "conda install tensorflow"
   ]
  }
 ],
 "metadata": {
  "kernelspec": {
   "display_name": "Python 3",
   "language": "python",
   "name": "python3"
  },
  "language_info": {
   "codemirror_mode": {
    "name": "ipython",
    "version": 3
   },
   "file_extension": ".py",
   "mimetype": "text/x-python",
   "name": "python",
   "nbconvert_exporter": "python",
   "pygments_lexer": "ipython3",
   "version": "3.8.3"
  }
 },
 "nbformat": 4,
 "nbformat_minor": 4
}
