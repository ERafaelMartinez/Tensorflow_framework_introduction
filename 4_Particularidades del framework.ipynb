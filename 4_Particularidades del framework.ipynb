{
 "cells": [
  {
   "cell_type": "markdown",
   "metadata": {},
   "source": [
    "Particularidades del framework TensorFlow.\n",
    "\n",
    "TensorFlow fue desaroolado por Google para ser utilizado en su propia compañía. Una de las particularidades de TensorFlow es que al haber sido desarrollado por ellos, cuenta con buen y confiable soporte.\n",
    "\n",
    "Otra de las características de TensorFlow es que al ser de los framework más utilizados en el mundo, se pueden encontrar una gran cantidad de tutoriales, guías y muchísima documentación de los desarrolladores, esto resulta ser bastante útil, especialmente para los principiantes.\n",
    "\n",
    "TensorFlow es compatible con muchos lenguajes de programación, que a pesar de no ser una caracterísitica única, es un punto a destacar. Entre los lenguajes de programación que podemos utilizar tenemos Python, R, Julia, Java, C, C++, e inclusive Swift. Además, es compatible con dispositivos móbiles.\n",
    "\n",
    "Cuenta con TPU, un circuito integrado de aplicación específica (ASIC), diseñado y optimizado para TensorFlow para acelerar el trabajo de aprendizaje automático con redes neuronales. Algunos modelos que anteriormente tardaban semanas en entrenarse en chips de uso general como CPU y GPU pueden entrenarse en horas en TPU.\n",
    "\n",
    "La arquitectura flexible de TensorFlow nos permite implementar nuestros modelos de aprendizaje profundo en una o más CPU (así como GPU) en un escritorio, servidor o dispositivo móvil sin tener que reescribir el código.\n",
    "\n",
    "Los modelos de aprendizaje automático de TensorFlow son fáciles de crear, se pueden usar para una producción sólida de aprendizaje automático y permiten una experimentación poderosa para la investigación.\n",
    "\n",
    "TensorFlow cuenta con TensorBoard,una herramienta que ayuda a la visualización de datos eficaz mediante gráficos de flujo de datos, proporciona una visualización efectiva del modelado y el rendimiento de la red.\n",
    "\n"
   ]
  }
 ],
 "metadata": {
  "kernelspec": {
   "display_name": "Python 3",
   "language": "python",
   "name": "python3"
  },
  "language_info": {
   "codemirror_mode": {
    "name": "ipython",
    "version": 3
   },
   "file_extension": ".py",
   "mimetype": "text/x-python",
   "name": "python",
   "nbconvert_exporter": "python",
   "pygments_lexer": "ipython3",
   "version": "3.8.5"
  }
 },
 "nbformat": 4,
 "nbformat_minor": 4
}
